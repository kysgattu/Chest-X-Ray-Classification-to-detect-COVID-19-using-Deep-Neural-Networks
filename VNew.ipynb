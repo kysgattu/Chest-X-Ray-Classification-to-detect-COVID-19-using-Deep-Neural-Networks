{
 "cells": [
  {
   "cell_type": "code",
   "execution_count": 1,
   "outputs": [
    {
     "name": "stdout",
     "output_type": "stream",
     "text": [
      "modules loaded\n"
     ]
    }
   ],
   "source": [
    "# import system libs\n",
    "import os\n",
    "import time\n",
    "import shutil\n",
    "import pathlib\n",
    "import itertools\n",
    "\n",
    "# import data handling tools\n",
    "import cv2\n",
    "import numpy as np\n",
    "import pandas as pd\n",
    "import seaborn as sns\n",
    "sns.set_style('darkgrid')\n",
    "import matplotlib.pyplot as plt\n",
    "from sklearn.model_selection import train_test_split\n",
    "from sklearn.metrics import confusion_matrix, classification_report\n",
    "\n",
    "# import Deep learning Libraries\n",
    "import tensorflow as tf\n",
    "from tensorflow import keras\n",
    "from tensorflow.keras.models import Sequential\n",
    "from tensorflow.keras.optimizers import Adam, Adamax\n",
    "from tensorflow.keras.metrics import categorical_crossentropy\n",
    "from tensorflow.keras.preprocessing.image import ImageDataGenerator\n",
    "from tensorflow.keras.layers import Conv2D, MaxPooling2D, Flatten, Dense, Activation, Dropout, BatchNormalization\n",
    "from tensorflow.keras import regularizers\n",
    "\n",
    "from tensorflow.keras.layers import Conv2D, MaxPooling2D, Flatten, Dense, Dropout\n",
    "from tensorflow.keras.callbacks import EarlyStopping, ModelCheckpoint\n",
    "\n",
    "# Ignore Warnings\n",
    "import warnings\n",
    "warnings.filterwarnings(\"ignore\")\n",
    "\n",
    "print ('modules loaded')"
   ],
   "metadata": {
    "collapsed": false,
    "ExecuteTime": {
     "start_time": "2023-04-17T18:04:58.255794Z",
     "end_time": "2023-04-17T18:05:02.529944Z"
    }
   }
  },
  {
   "cell_type": "code",
   "execution_count": 2,
   "outputs": [
    {
     "name": "stdout",
     "output_type": "stream",
     "text": [
      "Train size: 16932, Validation size: 2793, Test size: 1440\n"
     ]
    }
   ],
   "source": [
    "# Set the directory containing the image files\n",
    "data_dir = '/Users/kysgattu/Downloads/COVID-19_Radiography_Dataset2'\n",
    "\n",
    "# Initialize empty lists to hold file paths and their corresponding labels\n",
    "filepaths = []\n",
    "labels = []\n",
    "\n",
    "# Loop through all folders in the directory\n",
    "for fold in os.listdir(data_dir):\n",
    "    foldpath = os.path.join(data_dir, fold)\n",
    "\n",
    "    # If a folder has a file extension, it's not a directory and is ignored\n",
    "    if pathlib.Path(foldpath).suffix != '':\n",
    "        continue\n",
    "\n",
    "    # If the folder is a directory\n",
    "    if os.path.isdir(foldpath):\n",
    "        # Loop through all files in the directory\n",
    "        filelist = os.listdir(foldpath)\n",
    "        for file in filelist:\n",
    "            fpath = os.path.join(foldpath, file)\n",
    "            if os.path.isdir(fpath):\n",
    "                # check if there are another folders\n",
    "                if pathlib.Path(foldpath).suffix == '':\n",
    "                    # check unneeded masks\n",
    "                    if pathlib.Path(fpath).parts[-1] == 'masks' or pathlib.Path(fpath).parts[-1] == 'Masks' or pathlib.Path(fpath).parts[-1] == 'MASKS':\n",
    "                        continue\n",
    "\n",
    "                    else:\n",
    "                        o_file = os.listdir(fpath)\n",
    "                        for f in o_file:\n",
    "                            ipath = os.path.join(fpath, f)\n",
    "                            filepaths.append(ipath)\n",
    "                            labels.append(fold)\n",
    "\n",
    "                else:\n",
    "                    filepaths.append(fpath)\n",
    "                    labels.append(fold)\n",
    "\n",
    "# Convert the file paths and labels lists into a Pandas DataFrame for easier manipulation\n",
    "df = pd.DataFrame({'filepaths': filepaths, 'labels': labels})\n",
    "\n",
    "# Split the DataFrame into training, validation, and test sets\n",
    "strat = df['labels']\n",
    "train_df, dummy_df = train_test_split(df, train_size=0.8, shuffle=True, random_state=123, stratify=strat)\n",
    "strat = dummy_df['labels']\n",
    "valid_df, test_df = train_test_split(dummy_df, train_size=0.66, shuffle=True, random_state=123, stratify=strat)\n",
    "# Print the sizes of the resulting train, validation, and test sets\n",
    "print(f'Train size: {len(train_df)}, Validation size: {len(valid_df)}, Test size: {len(test_df)}')\n"
   ],
   "metadata": {
    "collapsed": false,
    "ExecuteTime": {
     "start_time": "2023-04-17T18:05:02.535759Z",
     "end_time": "2023-04-17T18:05:02.635951Z"
    }
   }
  },
  {
   "cell_type": "code",
   "execution_count": 3,
   "outputs": [
    {
     "name": "stdout",
     "output_type": "stream",
     "text": [
      "Found 16932 validated image filenames belonging to 4 classes.\n",
      "Found 2793 validated image filenames belonging to 4 classes.\n",
      "Found 1440 validated image filenames belonging to 4 classes.\n"
     ]
    }
   ],
   "source": [
    "# Calculate the length of the test dataset\n",
    "ts_length = len(test_df)\n",
    "\n",
    "# Find all factors of the test dataset length less than or equal to 80\n",
    "factors = [n for n in range(1, ts_length+1) if ts_length % n == 0 and ts_length/n <= 80]\n",
    "\n",
    "# Sort the factors in descending order and select the largest one as the batch size\n",
    "test_batch_size = max(sorted(factors, reverse=True))\n",
    "\n",
    "# Calculate the number of steps per epoch for the test dataset\n",
    "test_steps = ts_length // test_batch_size\n",
    "\n",
    "# Define a function that returns the input image unchanged\n",
    "def scalar(img):\n",
    "    return img\n",
    "\n",
    "# Set up image data generators for the training, validation, and test datasets\n",
    "tr_gen = ImageDataGenerator(preprocessing_function=scalar, horizontal_flip=True)\n",
    "ts_gen = ImageDataGenerator(preprocessing_function=scalar)\n",
    "\n",
    "train_gen = tr_gen.flow_from_dataframe(\n",
    "    train_df,\n",
    "    x_col='filepaths',\n",
    "    y_col='labels',\n",
    "    target_size=(224, 224),\n",
    "    class_mode='categorical',\n",
    "    color_mode='rgb',\n",
    "    shuffle=True,\n",
    "    batch_size=16\n",
    ")\n",
    "\n",
    "valid_gen = ts_gen.flow_from_dataframe(\n",
    "    valid_df,\n",
    "    x_col='filepaths',\n",
    "    y_col='labels',\n",
    "    target_size=(224, 224),\n",
    "    class_mode='categorical',\n",
    "    color_mode='rgb',\n",
    "    shuffle=True,\n",
    "    batch_size=16\n",
    ")\n",
    "\n",
    "test_gen = ts_gen.flow_from_dataframe(\n",
    "    test_df,\n",
    "    x_col='filepaths',\n",
    "    y_col='labels',\n",
    "    target_size=(224, 224),\n",
    "    class_mode='categorical',\n",
    "    color_mode='rgb',\n",
    "    shuffle=False,  # Don't shuffle the test data\n",
    "    batch_size=test_batch_size\n",
    ")\n"
   ],
   "metadata": {
    "collapsed": false,
    "ExecuteTime": {
     "start_time": "2023-04-17T18:05:02.638662Z",
     "end_time": "2023-04-17T18:05:02.945216Z"
    }
   }
  },
  {
   "cell_type": "code",
   "execution_count": 4,
   "outputs": [],
   "source": [
    "data_dict = train_gen.class_indices        # defines dictionary {'class': index}\n",
    "classes = list(data_dict.keys())     # defines list of dictionary's kays (classes), classes names : string\n",
    "images, labels = next(train_gen)        # get a batch size samples from the generator"
   ],
   "metadata": {
    "collapsed": false,
    "ExecuteTime": {
     "start_time": "2023-04-17T18:05:02.885822Z",
     "end_time": "2023-04-17T18:05:02.965103Z"
    }
   }
  },
  {
   "cell_type": "code",
   "execution_count": 5,
   "outputs": [],
   "source": [
    "# calculate number of displayed samples\n",
    "length = len(labels)        # length of batch size"
   ],
   "metadata": {
    "collapsed": false,
    "ExecuteTime": {
     "start_time": "2023-04-17T18:05:02.942910Z",
     "end_time": "2023-04-17T18:05:02.977444Z"
    }
   }
  },
  {
   "cell_type": "code",
   "execution_count": null,
   "outputs": [],
   "source": [
    "import matplotlib.pyplot as plt\n",
    "import numpy as np\n",
    "\n",
    "# Get class names and number of classes\n",
    "class_names = list(train_gen.class_indices.keys())\n",
    "num_classes = len(class_names)\n",
    "\n",
    "# Create a dictionary to store images for each class\n",
    "class_images = {class_name: [] for class_name in class_names}\n",
    "\n",
    "# Loop over the samples until 5 images per class are found\n",
    "while True:\n",
    "    images, labels = next(train_gen)\n",
    "    for j in range(len(labels)):\n",
    "        class_name = class_names[np.argmax(labels[j])]\n",
    "        if len(class_images[class_name]) < 5:\n",
    "            class_images[class_name].append(images[j])\n",
    "\n",
    "    # Stop once 5 images per class are found\n",
    "    if all(len(images) == 5 for images in class_images.values()):\n",
    "        break\n",
    "\n",
    "# Create a figure with 5 rows and N columns\n",
    "fig, axs = plt.subplots(5, num_classes, figsize=(20, 20))\n",
    "\n",
    "# Loop over the classes and plot the corresponding images\n",
    "for i in range(num_classes):\n",
    "    for j in range(5):\n",
    "        axs[j, i].imshow(class_images[class_names[i]][j]/255)\n",
    "        axs[j, i].set_title(class_names[i])\n",
    "        axs[j, i].axis('off')\n",
    "\n",
    "plt.show()\n"
   ],
   "metadata": {
    "collapsed": false
   }
  },
  {
   "cell_type": "code",
   "execution_count": 6,
   "outputs": [
    {
     "name": "stdout",
     "output_type": "stream",
     "text": [
      "Metal device set to: Apple M1 Pro\n"
     ]
    },
    {
     "name": "stderr",
     "output_type": "stream",
     "text": [
      "2023-04-17 18:06:20.440836: I tensorflow/core/common_runtime/pluggable_device/pluggable_device_factory.cc:305] Could not identify NUMA node of platform GPU ID 0, defaulting to 0. Your kernel may not have been built with NUMA support.\n",
      "2023-04-17 18:06:20.440999: I tensorflow/core/common_runtime/pluggable_device/pluggable_device_factory.cc:271] Created TensorFlow device (/job:localhost/replica:0/task:0/device:GPU:0 with 0 MB memory) -> physical PluggableDevice (device: 0, name: METAL, pci bus id: <undefined>)\n"
     ]
    }
   ],
   "source": [
    "from tensorflow.keras.applications.vgg19 import VGG19\n",
    "from tensorflow.keras.models import Model\n",
    "import matplotlib.pyplot as plt\n",
    "\n",
    "\n",
    "# Load pre-trained VGG19 model without top layer and freeze all layers\n",
    "vgg19 = VGG19(weights='imagenet', include_top=False, input_shape=(224, 224, 3))\n",
    "for layer in vgg19.layers:\n",
    "    layer.trainable = False\n",
    "\n",
    "# Add custom top layer\n",
    "x = Flatten()(vgg19.output)\n",
    "x = Dense(1024, activation='relu')(x)\n",
    "x = Dense(4, activation='softmax')(x)\n",
    "\n"
   ],
   "metadata": {
    "collapsed": false,
    "ExecuteTime": {
     "start_time": "2023-04-17T18:06:20.425817Z",
     "end_time": "2023-04-17T18:06:21.322694Z"
    }
   }
  },
  {
   "cell_type": "code",
   "execution_count": 7,
   "outputs": [],
   "source": [
    "# Create new model with custom top layer\n",
    "model = Model(inputs=vgg19.input, outputs=x)\n",
    "\n",
    "# Compile model with categorical crossentropy loss and Adam optimizer\n",
    "model.compile(loss='categorical_crossentropy', optimizer='adam', metrics=['accuracy'])\n",
    "\n",
    "# Define callbacks\n",
    "early_stop = EarlyStopping(monitor='val_loss', patience=5, restore_best_weights=True)\n",
    "\n"
   ],
   "metadata": {
    "collapsed": false,
    "ExecuteTime": {
     "start_time": "2023-04-17T18:06:24.551147Z",
     "end_time": "2023-04-17T18:06:24.586292Z"
    }
   }
  },
  {
   "cell_type": "code",
   "execution_count": 10,
   "outputs": [
    {
     "name": "stdout",
     "output_type": "stream",
     "text": [
      "Epoch 1/2\n",
      "1059/1059 [==============================] - ETA: 0s - loss: 0.3854 - accuracy: 0.8764"
     ]
    },
    {
     "name": "stderr",
     "output_type": "stream",
     "text": [
      "2023-04-17 18:15:02.731970: I tensorflow/core/grappler/optimizers/custom_graph_optimizer_registry.cc:113] Plugin optimizer for device_type GPU is enabled.\n"
     ]
    },
    {
     "name": "stdout",
     "output_type": "stream",
     "text": [
      "1059/1059 [==============================] - 468s 442ms/step - loss: 0.3854 - accuracy: 0.8764 - val_loss: 0.3720 - val_accuracy: 0.8568\n",
      "Epoch 2/2\n",
      "1059/1059 [==============================] - 474s 448ms/step - loss: 0.2605 - accuracy: 0.9064 - val_loss: 0.2683 - val_accuracy: 0.9083\n"
     ]
    }
   ],
   "source": [
    "# Train the model for 10 epochs\n",
    "history = model.fit(train_gen, validation_data=valid_gen, epochs=2, callbacks = early_stop)\n",
    "\n",
    "\n"
   ],
   "metadata": {
    "collapsed": false,
    "ExecuteTime": {
     "start_time": "2023-04-17T18:08:17.863722Z",
     "end_time": "2023-04-17T18:24:00.052502Z"
    }
   }
  },
  {
   "cell_type": "code",
   "execution_count": 12,
   "outputs": [],
   "source": [
    "model.save('VGG.h5')"
   ],
   "metadata": {
    "collapsed": false,
    "ExecuteTime": {
     "start_time": "2023-04-17T18:24:20.569679Z",
     "end_time": "2023-04-17T18:24:21.152067Z"
    }
   }
  },
  {
   "cell_type": "code",
   "execution_count": null,
   "outputs": [],
   "source": [],
   "metadata": {
    "collapsed": false
   }
  },
  {
   "cell_type": "code",
   "execution_count": 24,
   "outputs": [],
   "source": [
    "model = keras.models.load_model('VGG.h5')"
   ],
   "metadata": {
    "collapsed": false
   }
  },
  {
   "cell_type": "code",
   "execution_count": 25,
   "outputs": [
    {
     "name": "stderr",
     "output_type": "stream",
     "text": [
      "2023-04-17 18:26:24.962929: I tensorflow/core/grappler/optimizers/custom_graph_optimizer_registry.cc:113] Plugin optimizer for device_type GPU is enabled.\n"
     ]
    },
    {
     "name": "stdout",
     "output_type": "stream",
     "text": [
      "29/29 [==============================] - 53s 2s/step - loss: 0.2290 - accuracy: 0.9202\n"
     ]
    },
    {
     "data": {
      "text/plain": "[0.22901228070259094, 0.9201700687408447]"
     },
     "execution_count": 25,
     "metadata": {},
     "output_type": "execute_result"
    }
   ],
   "source": [
    "model.evaluate(test_gen)"
   ],
   "metadata": {
    "collapsed": false
   }
  },
  {
   "cell_type": "code",
   "execution_count": 26,
   "outputs": [
    {
     "name": "stderr",
     "output_type": "stream",
     "text": [
      "2023-04-17 18:27:18.093677: I tensorflow/core/grappler/optimizers/custom_graph_optimizer_registry.cc:113] Plugin optimizer for device_type GPU is enabled.\n"
     ]
    }
   ],
   "source": [
    "preds = model.predict_generator(test_gen)"
   ],
   "metadata": {
    "collapsed": false
   }
  },
  {
   "cell_type": "code",
   "execution_count": 27,
   "outputs": [],
   "source": [
    "y_pred = np.argmax(preds, axis=1)"
   ],
   "metadata": {
    "collapsed": false
   }
  },
  {
   "cell_type": "code",
   "execution_count": 28,
   "outputs": [
    {
     "data": {
      "text/plain": "array([1, 1, 1, ..., 2, 2, 2])"
     },
     "execution_count": 28,
     "metadata": {},
     "output_type": "execute_result"
    }
   ],
   "source": [
    "y_pred"
   ],
   "metadata": {
    "collapsed": false
   }
  },
  {
   "cell_type": "code",
   "execution_count": 29,
   "outputs": [],
   "source": [
    "g_dict = test_gen.class_indices\n",
    "classes = list(g_dict.keys())\n",
    "\n",
    "# Confusion matrix\n",
    "cm = confusion_matrix(test_gen.classes, y_pred)\n"
   ],
   "metadata": {
    "collapsed": false
   }
  },
  {
   "cell_type": "code",
   "execution_count": 30,
   "outputs": [],
   "source": [
    "cr = classification_report(test_gen.classes, y_pred)"
   ],
   "metadata": {
    "collapsed": false
   }
  },
  {
   "cell_type": "code",
   "execution_count": 31,
   "outputs": [
    {
     "data": {
      "text/plain": "['COVID', 'Lung_Opacity', 'Normal', 'Viral Pneumonia']"
     },
     "execution_count": 31,
     "metadata": {},
     "output_type": "execute_result"
    }
   ],
   "source": [
    "classes"
   ],
   "metadata": {
    "collapsed": false
   }
  },
  {
   "cell_type": "code",
   "execution_count": 32,
   "outputs": [
    {
     "data": {
      "text/plain": "array([[333,  10,  19,   0],\n       [ 10, 520,  72,   0],\n       [  6,  42, 964,   7],\n       [  0,   0,   3, 131]])"
     },
     "execution_count": 32,
     "metadata": {},
     "output_type": "execute_result"
    }
   ],
   "source": [
    "cm"
   ],
   "metadata": {
    "collapsed": false
   }
  },
  {
   "cell_type": "code",
   "execution_count": 33,
   "outputs": [
    {
     "data": {
      "text/plain": "<Figure size 640x480 with 2 Axes>",
      "image/png": "[encoded data removed]"
     },
     "metadata": {},
     "output_type": "display_data"
    }
   ],
   "source": [
    "from sklearn.metrics import confusion_matrix\n",
    "import seaborn as sns\n",
    "import matplotlib.pyplot as plt\n",
    "\n",
    "# y_true and y_pred are the true and predicted labels, respectively\n",
    "\n",
    "\n",
    "# Create a heatmap of the confusion matrix\n",
    "sns.heatmap(cm, annot=True, fmt='d', cmap='Blues')\n",
    "\n",
    "# Add labels, title, and ticks to the plot\n",
    "plt.xlabel('Predicted Labels')\n",
    "plt.ylabel('True Labels')\n",
    "plt.title('Confusion Matrix')\n",
    "plt.xticks(ticks=[0, 1, 2, 3], labels=classes)\n",
    "plt.yticks(ticks=[0, 1, 2, 3], labels=classes)\n",
    "plt.show()\n"
   ],
   "metadata": {
    "collapsed": false
   }
  },
  {
   "cell_type": "code",
   "execution_count": 34,
   "outputs": [
    {
     "name": "stdout",
     "output_type": "stream",
     "text": [
      "              precision    recall  f1-score   support\n",
      "\n",
      "           0       0.95      0.92      0.94       362\n",
      "           1       0.91      0.86      0.89       602\n",
      "           2       0.91      0.95      0.93      1019\n",
      "           3       0.95      0.98      0.96       134\n",
      "\n",
      "    accuracy                           0.92      2117\n",
      "   macro avg       0.93      0.93      0.93      2117\n",
      "weighted avg       0.92      0.92      0.92      2117\n",
      "\n"
     ]
    }
   ],
   "source": [
    "print(cr)"
   ],
   "metadata": {
    "collapsed": false
   }
  },
  {
   "cell_type": "code",
   "execution_count": null,
   "outputs": [],
   "source": [],
   "metadata": {
    "collapsed": false
   }
  }
 ],
 "metadata": {
  "kernelspec": {
   "display_name": "Python 3",
   "language": "python",
   "name": "python3"
  },
  "language_info": {
   "codemirror_mode": {
    "name": "ipython",
    "version": 2
   },
   "file_extension": ".py",
   "mimetype": "text/x-python",
   "name": "python",
   "nbconvert_exporter": "python",
   "pygments_lexer": "ipython2",
   "version": "2.7.6"
  }
 },
 "nbformat": 4,
 "nbformat_minor": 0
}
