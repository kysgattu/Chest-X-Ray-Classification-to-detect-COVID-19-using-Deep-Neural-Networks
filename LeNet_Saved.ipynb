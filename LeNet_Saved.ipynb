{
 "cells": [
  {
   "cell_type": "code",
   "execution_count": 1,
   "outputs": [
    {
     "name": "stdout",
     "output_type": "stream",
     "text": [
      "modules loaded\n"
     ]
    }
   ],
   "source": [
    "# import system libs\n",
    "import os\n",
    "import time\n",
    "import shutil\n",
    "import pathlib\n",
    "import itertools\n",
    "\n",
    "# import data handling tools\n",
    "import cv2\n",
    "import numpy as np\n",
    "import pandas as pd\n",
    "import seaborn as sns\n",
    "sns.set_style('darkgrid')\n",
    "import matplotlib.pyplot as plt\n",
    "from sklearn.model_selection import train_test_split\n",
    "from sklearn.metrics import confusion_matrix, classification_report\n",
    "\n",
    "# import Deep learning Libraries\n",
    "import tensorflow as tf\n",
    "from tensorflow import keras\n",
    "from tensorflow.keras.models import Sequential\n",
    "from tensorflow.keras.optimizers import Adam, Adamax\n",
    "from tensorflow.keras.metrics import categorical_crossentropy\n",
    "from tensorflow.keras.preprocessing.image import ImageDataGenerator\n",
    "from tensorflow.keras.layers import Conv2D, MaxPooling2D, Flatten, Dense, Activation, Dropout, BatchNormalization, AveragePooling2D\n",
    "from tensorflow.keras import regularizers\n",
    "\n",
    "from tensorflow.keras.layers import Conv2D, MaxPooling2D, Flatten, Dense, Dropout\n",
    "from tensorflow.keras.callbacks import EarlyStopping, ModelCheckpoint\n",
    "\n",
    "# Ignore Warnings\n",
    "import warnings\n",
    "warnings.filterwarnings(\"ignore\")\n",
    "\n",
    "print ('modules loaded')"
   ],
   "metadata": {
    "collapsed": false,
    "ExecuteTime": {
     "start_time": "2023-04-17T18:00:30.996255Z",
     "end_time": "2023-04-17T18:00:35.559785Z"
    }
   }
  },
  {
   "cell_type": "code",
   "execution_count": 2,
   "outputs": [
    {
     "name": "stdout",
     "output_type": "stream",
     "text": [
      "Train size: 16932, Validation size: 2116, Test size: 2117\n"
     ]
    }
   ],
   "source": [
    "# Set the directory containing the image files\n",
    "data_dir = 'COVID-19_Radiography_Dataset'\n",
    "\n",
    "# Initialize empty lists to hold file paths and their corresponding labels\n",
    "filepaths = []\n",
    "labels = []\n",
    "\n",
    "# Loop through all folders in the directory\n",
    "for fold in os.listdir(data_dir):\n",
    "    foldpath = os.path.join(data_dir, fold)\n",
    "\n",
    "    # If a folder has a file extension, it's not a directory and is ignored\n",
    "    if pathlib.Path(foldpath).suffix != '':\n",
    "        continue\n",
    "\n",
    "    # If the folder is a directory\n",
    "    if os.path.isdir(foldpath):\n",
    "        # Loop through all files in the directory\n",
    "        filelist = os.listdir(foldpath)\n",
    "        for file in filelist:\n",
    "            fpath = os.path.join(foldpath, file)\n",
    "            if os.path.isdir(fpath):\n",
    "                # check if there are another folders\n",
    "                if pathlib.Path(foldpath).suffix == '':\n",
    "                    # check unneeded masks\n",
    "                    if pathlib.Path(fpath).parts[-1] == 'masks' or pathlib.Path(fpath).parts[-1] == 'Masks' or pathlib.Path(fpath).parts[-1] == 'MASKS':\n",
    "                        continue\n",
    "\n",
    "                    else:\n",
    "                        o_file = os.listdir(fpath)\n",
    "                        for f in o_file:\n",
    "                            ipath = os.path.join(fpath, f)\n",
    "                            filepaths.append(ipath)\n",
    "                            labels.append(fold)\n",
    "\n",
    "                else:\n",
    "                    filepaths.append(fpath)\n",
    "                    labels.append(fold)\n",
    "\n",
    "# Convert the file paths and labels lists into a Pandas DataFrame for easier manipulation\n",
    "df = pd.DataFrame({'filepaths': filepaths, 'labels': labels})\n",
    "\n",
    "# Split the DataFrame into training, validation, and test sets\n",
    "strat = df['labels']\n",
    "train_df, dummy_df = train_test_split(df, train_size=0.8, shuffle=True, random_state=123, stratify=strat)\n",
    "strat = dummy_df['labels']\n",
    "valid_df, test_df = train_test_split(dummy_df, train_size=0.5, shuffle=True, random_state=123, stratify=strat)\n",
    "\n",
    "# Print the sizes of the resulting train, validation, and test sets\n",
    "print(f'Train size: {len(train_df)}, Validation size: {len(valid_df)}, Test size: {len(test_df)}')\n"
   ],
   "metadata": {
    "collapsed": false,
    "ExecuteTime": {
     "start_time": "2023-04-17T18:00:38.334457Z",
     "end_time": "2023-04-17T18:00:38.423934Z"
    }
   }
  },
  {
   "cell_type": "code",
   "execution_count": 3,
   "outputs": [
    {
     "name": "stdout",
     "output_type": "stream",
     "text": [
      "Found 16932 validated image filenames belonging to 4 classes.\n",
      "Found 2116 validated image filenames belonging to 4 classes.\n",
      "Found 2117 validated image filenames belonging to 4 classes.\n"
     ]
    }
   ],
   "source": [
    "# Calculate the length of the test dataset\n",
    "ts_length = len(test_df)\n",
    "\n",
    "# Find all factors of the test dataset length less than or equal to 80\n",
    "factors = [n for n in range(1, ts_length+1) if ts_length % n == 0 and ts_length/n <= 80]\n",
    "\n",
    "# Sort the factors in descending order and select the largest one as the batch size\n",
    "test_batch_size = max(sorted(factors, reverse=True))\n",
    "\n",
    "# Calculate the number of steps per epoch for the test dataset\n",
    "test_steps = ts_length // test_batch_size\n",
    "\n",
    "# Define a function that returns the input image unchanged\n",
    "def scalar(img):\n",
    "    return img\n",
    "\n",
    "# Set up image data generators for the training, validation, and test datasets\n",
    "tr_gen = ImageDataGenerator(preprocessing_function=scalar, horizontal_flip=True)\n",
    "ts_gen = ImageDataGenerator(preprocessing_function=scalar)\n",
    "\n",
    "train_gen = tr_gen.flow_from_dataframe(\n",
    "    train_df,\n",
    "    x_col='filepaths',\n",
    "    y_col='labels',\n",
    "    target_size=(224, 224),\n",
    "    class_mode='categorical',\n",
    "    color_mode='rgb',\n",
    "    shuffle=True,\n",
    "    batch_size=16\n",
    ")\n",
    "\n",
    "valid_gen = ts_gen.flow_from_dataframe(\n",
    "    valid_df,\n",
    "    x_col='filepaths',\n",
    "    y_col='labels',\n",
    "    target_size=(224, 224),\n",
    "    class_mode='categorical',\n",
    "    color_mode='rgb',\n",
    "    shuffle=True,\n",
    "    batch_size=16\n",
    ")\n",
    "\n",
    "test_gen = ts_gen.flow_from_dataframe(\n",
    "    test_df,\n",
    "    x_col='filepaths',\n",
    "    y_col='labels',\n",
    "    target_size=(224, 224),\n",
    "    class_mode='categorical',\n",
    "    color_mode='rgb',\n",
    "    shuffle=False,  # Don't shuffle the test data\n",
    "    batch_size=test_batch_size\n",
    ")\n"
   ],
   "metadata": {
    "collapsed": false,
    "ExecuteTime": {
     "start_time": "2023-04-17T18:00:40.493545Z",
     "end_time": "2023-04-17T18:00:40.755603Z"
    }
   }
  },
  {
   "cell_type": "code",
   "execution_count": 4,
   "outputs": [],
   "source": [
    "data_dict = train_gen.class_indices        # defines dictionary {'class': index}\n",
    "classes = list(data_dict.keys())     # defines list of dictionary's kays (classes), classes names : string\n",
    "images, labels = next(train_gen)        # get a batch size samples from the generator"
   ],
   "metadata": {
    "collapsed": false,
    "ExecuteTime": {
     "start_time": "2023-04-17T18:00:41.954228Z",
     "end_time": "2023-04-17T18:00:42.000329Z"
    }
   }
  },
  {
   "cell_type": "code",
   "execution_count": 5,
   "outputs": [],
   "source": [
    "# calculate number of displayed samples\n",
    "batch_size = len(labels)        # length of batch size"
   ],
   "metadata": {
    "collapsed": false,
    "ExecuteTime": {
     "start_time": "2023-04-17T18:00:43.022420Z",
     "end_time": "2023-04-17T18:00:43.029418Z"
    }
   }
  },
  {
   "cell_type": "code",
   "execution_count": null,
   "outputs": [],
   "source": [
    "import matplotlib.pyplot as plt\n",
    "import numpy as np\n",
    "\n",
    "# Get class names and number of classes\n",
    "class_names = list(train_gen.class_indices.keys())\n",
    "num_classes = len(class_names)\n",
    "\n",
    "# Create a dictionary to store images for each class\n",
    "class_images = {class_name: [] for class_name in class_names}\n",
    "\n",
    "# Loop over the samples until 5 images per class are found\n",
    "while True:\n",
    "    images, labels = next(train_gen)\n",
    "    for j in range(len(labels)):\n",
    "        class_name = class_names[np.argmax(labels[j])]\n",
    "        if len(class_images[class_name]) < 5:\n",
    "            class_images[class_name].append(images[j])\n",
    "\n",
    "    # Stop once 5 images per class are found\n",
    "    if all(len(images) == 5 for images in class_images.values()):\n",
    "        break\n",
    "\n",
    "# Create a figure with 5 rows and N columns\n",
    "fig, axs = plt.subplots(5, num_classes, figsize=(20, 20))\n",
    "\n",
    "# Loop over the classes and plot the corresponding images\n",
    "for i in range(num_classes):\n",
    "    for j in range(5):\n",
    "        axs[j, i].imshow(class_images[class_names[i]][j]/255)\n",
    "        axs[j, i].set_title(class_names[i])\n",
    "        axs[j, i].axis('off')\n",
    "\n",
    "plt.show()\n"
   ],
   "metadata": {
    "collapsed": false,
    "ExecuteTime": {
     "start_time": "2023-04-17T17:52:14.365038Z",
     "end_time": "2023-04-17T17:52:15.912968Z"
    }
   }
  },
  {
   "cell_type": "markdown",
   "source": [
    "# Set the batch size, image size, and number of classes\n",
    "#batch_size = 16\n",
    "img_height, img_width = 224, 224\n",
    "num_classes = len(train_gen.class_indices)\n",
    "\n",
    "\n",
    "# Define the LeNet model\n",
    "model = Sequential()\n",
    "model.add(Conv2D(32, kernel_size=(3, 3), activation='relu', input_shape=(img_height, img_width, 3)))\n",
    "model.add(MaxPooling2D(pool_size=(2, 2)))\n",
    "model.add(Conv2D(64, kernel_size=(3, 3), activation='relu'))\n",
    "model.add(MaxPooling2D(pool_size=(2, 2)))\n",
    "model.add(Flatten())\n",
    "model.add(Dense(128, activation='relu'))\n",
    "model.add(Dropout(0.5))\n",
    "model.add(Dense(num_classes, activation='softmax'))\n",
    "\n",
    "# Define callbacks\n",
    "early_stop = EarlyStopping(monitor='val_loss', patience=5, restore_best_weights=True)\n"
   ],
   "metadata": {
    "collapsed": false
   }
  },
  {
   "cell_type": "code",
   "execution_count": 6,
   "outputs": [
    {
     "name": "stdout",
     "output_type": "stream",
     "text": [
      "Metal device set to: Apple M1 Pro\n"
     ]
    },
    {
     "name": "stderr",
     "output_type": "stream",
     "text": [
      "2023-04-17 18:00:47.784256: I tensorflow/core/common_runtime/pluggable_device/pluggable_device_factory.cc:305] Could not identify NUMA node of platform GPU ID 0, defaulting to 0. Your kernel may not have been built with NUMA support.\n",
      "2023-04-17 18:00:47.784455: I tensorflow/core/common_runtime/pluggable_device/pluggable_device_factory.cc:271] Created TensorFlow device (/job:localhost/replica:0/task:0/device:GPU:0 with 0 MB memory) -> physical PluggableDevice (device: 0, name: METAL, pci bus id: <undefined>)\n"
     ]
    }
   ],
   "source": [
    "# Set the batch size, image size, and number of classes\n",
    "batch_size = 16\n",
    "img_height, img_width = 224, 224\n",
    "num_classes = len(train_gen.class_indices)\n",
    "\n",
    "\n",
    "# Define the LeNet model\n",
    "model = Sequential()\n",
    "model.add(Conv2D(32, kernel_size=(3, 3), activation='relu', input_shape=(img_height, img_width, 3)))\n",
    "model.add(AveragePooling2D(pool_size=(2, 2), strides=(2, 2)))\n",
    "model.add(Conv2D(64, kernel_size=(3, 3), activation='relu'))\n",
    "model.add(AveragePooling2D(pool_size=(2, 2), strides=(2, 2)))\n",
    "model.add(Conv2D(128, kernel_size=(3, 3), activation='relu'))\n",
    "model.add(Flatten())\n",
    "model.add(Dense(128, activation='relu'))\n",
    "model.add(Dense(num_classes, activation='softmax'))\n",
    "\n",
    "# Define callbacks\n",
    "early_stop = EarlyStopping(monitor='val_loss', patience=5, restore_best_weights=True)\n"
   ],
   "metadata": {
    "collapsed": false,
    "ExecuteTime": {
     "start_time": "2023-04-17T18:00:47.780110Z",
     "end_time": "2023-04-17T18:00:47.969541Z"
    }
   }
  },
  {
   "cell_type": "code",
   "execution_count": 7,
   "outputs": [],
   "source": [
    "# Compile the model\n",
    "model.compile(optimizer='adam',\n",
    "              loss='categorical_crossentropy',\n",
    "              metrics=['accuracy'])"
   ],
   "metadata": {
    "collapsed": false,
    "ExecuteTime": {
     "start_time": "2023-04-17T18:00:51.850480Z",
     "end_time": "2023-04-17T18:00:51.873313Z"
    }
   }
  },
  {
   "cell_type": "code",
   "execution_count": 8,
   "outputs": [
    {
     "name": "stdout",
     "output_type": "stream",
     "text": [
      "Model: \"sequential\"\n",
      "_________________________________________________________________\n",
      " Layer (type)                Output Shape              Param #   \n",
      "=================================================================\n",
      " conv2d (Conv2D)             (None, 222, 222, 32)      896       \n",
      "                                                                 \n",
      " average_pooling2d (AverageP  (None, 111, 111, 32)     0         \n",
      " ooling2D)                                                       \n",
      "                                                                 \n",
      " conv2d_1 (Conv2D)           (None, 109, 109, 64)      18496     \n",
      "                                                                 \n",
      " average_pooling2d_1 (Averag  (None, 54, 54, 64)       0         \n",
      " ePooling2D)                                                     \n",
      "                                                                 \n",
      " conv2d_2 (Conv2D)           (None, 52, 52, 128)       73856     \n",
      "                                                                 \n",
      " flatten (Flatten)           (None, 346112)            0         \n",
      "                                                                 \n",
      " dense (Dense)               (None, 128)               44302464  \n",
      "                                                                 \n",
      " dense_1 (Dense)             (None, 4)                 516       \n",
      "                                                                 \n",
      "=================================================================\n",
      "Total params: 44,396,228\n",
      "Trainable params: 44,396,228\n",
      "Non-trainable params: 0\n",
      "_________________________________________________________________\n"
     ]
    }
   ],
   "source": [
    "model.summary()"
   ],
   "metadata": {
    "collapsed": false,
    "ExecuteTime": {
     "start_time": "2023-04-17T18:00:52.989572Z",
     "end_time": "2023-04-17T18:00:53.009174Z"
    }
   }
  },
  {
   "cell_type": "code",
   "execution_count": 9,
   "outputs": [
    {
     "name": "stdout",
     "output_type": "stream",
     "text": [
      "Epoch 1/20\n"
     ]
    },
    {
     "name": "stderr",
     "output_type": "stream",
     "text": [
      "2023-04-17 18:01:06.134781: W tensorflow/core/platform/profile_utils/cpu_utils.cc:128] Failed to get CPU frequency: 0 Hz\n",
      "2023-04-17 18:01:06.492631: I tensorflow/core/grappler/optimizers/custom_graph_optimizer_registry.cc:113] Plugin optimizer for device_type GPU is enabled.\n"
     ]
    },
    {
     "name": "stdout",
     "output_type": "stream",
     "text": [
      "1059/1059 [==============================] - ETA: 0s - loss: 8.9705 - accuracy: 0.5479"
     ]
    },
    {
     "name": "stderr",
     "output_type": "stream",
     "text": [
      "2023-04-17 18:02:26.935497: I tensorflow/core/grappler/optimizers/custom_graph_optimizer_registry.cc:113] Plugin optimizer for device_type GPU is enabled.\n"
     ]
    },
    {
     "name": "stdout",
     "output_type": "stream",
     "text": [
      "1059/1059 [==============================] - 86s 80ms/step - loss: 8.9705 - accuracy: 0.5479 - val_loss: 0.9622 - val_accuracy: 0.5652\n",
      "Epoch 2/20\n",
      "1059/1059 [==============================] - 85s 81ms/step - loss: 1.0383 - accuracy: 0.5586 - val_loss: 0.9651 - val_accuracy: 0.5638\n",
      "Epoch 3/20\n",
      "1059/1059 [==============================] - 85s 80ms/step - loss: 0.9057 - accuracy: 0.5942 - val_loss: 0.8840 - val_accuracy: 0.6144\n",
      "Epoch 4/20\n",
      "1059/1059 [==============================] - 86s 81ms/step - loss: 0.8869 - accuracy: 0.6093 - val_loss: 0.9044 - val_accuracy: 0.6129\n",
      "Epoch 5/20\n",
      "1059/1059 [==============================] - 183s 173ms/step - loss: 0.8047 - accuracy: 0.6402 - val_loss: 0.8777 - val_accuracy: 0.6243\n",
      "Epoch 6/20\n",
      "1059/1059 [==============================] - 188s 177ms/step - loss: 0.7117 - accuracy: 0.6975 - val_loss: 0.8345 - val_accuracy: 0.6574\n",
      "Epoch 7/20\n",
      "1059/1059 [==============================] - 184s 173ms/step - loss: 0.6373 - accuracy: 0.7381 - val_loss: 0.7578 - val_accuracy: 0.7013\n",
      "Epoch 8/20\n",
      "1059/1059 [==============================] - 185s 175ms/step - loss: 0.5469 - accuracy: 0.7804 - val_loss: 0.7431 - val_accuracy: 0.7155\n",
      "Epoch 9/20\n",
      "1059/1059 [==============================] - 185s 174ms/step - loss: 0.5406 - accuracy: 0.7967 - val_loss: 1.2228 - val_accuracy: 0.4787\n",
      "Epoch 10/20\n",
      "1059/1059 [==============================] - 144s 136ms/step - loss: 0.5214 - accuracy: 0.7932 - val_loss: 0.8381 - val_accuracy: 0.6952\n",
      "Epoch 11/20\n",
      "1059/1059 [==============================] - 85s 80ms/step - loss: 0.4721 - accuracy: 0.8411 - val_loss: 0.8079 - val_accuracy: 0.7160\n",
      "Epoch 12/20\n",
      "1059/1059 [==============================] - 141s 133ms/step - loss: 0.4593 - accuracy: 0.8255 - val_loss: 0.8542 - val_accuracy: 0.7150\n",
      "Epoch 13/20\n",
      "1059/1059 [==============================] - 85s 81ms/step - loss: 0.4770 - accuracy: 0.8283 - val_loss: 1.1665 - val_accuracy: 0.6181\n"
     ]
    }
   ],
   "source": [
    "# Train the model\n",
    "history = model.fit(\n",
    "    train_gen,\n",
    "    epochs=20,\n",
    "    callbacks = early_stop,\n",
    "    validation_data=valid_gen,)\n",
    "\n"
   ],
   "metadata": {
    "collapsed": false,
    "ExecuteTime": {
     "start_time": "2023-04-17T18:01:06.062238Z",
     "end_time": "2023-04-17T18:29:46.761901Z"
    }
   }
  },
  {
   "cell_type": "code",
   "execution_count": 10,
   "outputs": [
    {
     "data": {
      "text/plain": "<Figure size 1000x500 with 2 Axes>",
      "image/png": "[encoded data removed]"
     },
     "metadata": {},
     "output_type": "display_data"
    }
   ],
   "source": [
    "# Plot the training and validation accuracy over epochs\n",
    "acc = history.history['accuracy']\n",
    "val_acc = history.history['val_accuracy']\n",
    "loss = history.history['loss']\n",
    "val_loss = history.history['val_loss']\n",
    "epochs_range = range(len(acc)) #Change with the number of epochs\n",
    "\n",
    "plt.figure(figsize=(10, 5))\n",
    "plt.subplot(1, 2, 1)\n",
    "plt.plot(epochs_range, acc, label='Training Accuracy')\n",
    "plt.plot(epochs_range, val_acc, label='Validation Accuracy')\n",
    "plt.legend(loc='lower right')\n",
    "plt.title('Training and Validation Accuracy')\n",
    "\n",
    "# Plot the training and validation loss over epochs\n",
    "plt.subplot(1, 2, 2)\n",
    "plt.plot(epochs_range, loss, label='Training Loss')\n",
    "plt.plot(epochs_range, val_loss, label='Validation Loss')\n",
    "plt.legend(loc='upper right')\n",
    "plt.title('Training and Validation Loss')\n",
    "plt.show()\n"
   ],
   "metadata": {
    "collapsed": false,
    "ExecuteTime": {
     "start_time": "2023-04-17T18:30:37.931231Z",
     "end_time": "2023-04-17T18:30:38.182612Z"
    }
   }
  },
  {
   "cell_type": "code",
   "execution_count": 11,
   "outputs": [],
   "source": [
    "model.save('LeNet_Saved.h5')"
   ],
   "metadata": {
    "collapsed": false,
    "ExecuteTime": {
     "start_time": "2023-04-17T18:30:54.943986Z",
     "end_time": "2023-04-17T18:30:55.803646Z"
    }
   }
  },
  {
   "cell_type": "code",
   "execution_count": 12,
   "outputs": [],
   "source": [
    "model = keras.models.load_model('LeNet_Saved.h5')"
   ],
   "metadata": {
    "collapsed": false,
    "ExecuteTime": {
     "start_time": "2023-04-17T18:30:56.635604Z",
     "end_time": "2023-04-17T18:30:57.889427Z"
    }
   }
  },
  {
   "cell_type": "code",
   "execution_count": null,
   "outputs": [],
   "source": [],
   "metadata": {
    "collapsed": false
   }
  },
  {
   "cell_type": "code",
   "execution_count": 36,
   "outputs": [
    {
     "name": "stderr",
     "output_type": "stream",
     "text": [
      "2023-04-17 18:32:07.536330: I tensorflow/core/grappler/optimizers/custom_graph_optimizer_registry.cc:113] Plugin optimizer for device_type GPU is enabled.\n"
     ]
    },
    {
     "name": "stdout",
     "output_type": "stream",
     "text": [
      "29/29 [==============================] - 5s 145ms/step - loss: 0.6716 - accuracy: 0.7430\n"
     ]
    },
    {
     "data": {
      "text/plain": "[0.6716140508651733, 0.7430325746536255]"
     },
     "execution_count": 36,
     "metadata": {},
     "output_type": "execute_result"
    }
   ],
   "source": [
    "model.evaluate(test_gen)"
   ],
   "metadata": {
    "collapsed": false
   }
  },
  {
   "cell_type": "code",
   "execution_count": 37,
   "outputs": [
    {
     "name": "stderr",
     "output_type": "stream",
     "text": [
      "2023-04-17 18:32:15.422143: I tensorflow/core/grappler/optimizers/custom_graph_optimizer_registry.cc:113] Plugin optimizer for device_type GPU is enabled.\n"
     ]
    }
   ],
   "source": [
    "preds = model.predict_generator(test_gen)"
   ],
   "metadata": {
    "collapsed": false
   }
  },
  {
   "cell_type": "code",
   "execution_count": 38,
   "outputs": [],
   "source": [
    "y_pred = np.argmax(preds, axis=1)"
   ],
   "metadata": {
    "collapsed": false
   }
  },
  {
   "cell_type": "code",
   "execution_count": 39,
   "outputs": [
    {
     "data": {
      "text/plain": "array([1, 2, 2, ..., 2, 2, 2])"
     },
     "execution_count": 39,
     "metadata": {},
     "output_type": "execute_result"
    }
   ],
   "source": [
    "y_pred"
   ],
   "metadata": {
    "collapsed": false
   }
  },
  {
   "cell_type": "code",
   "execution_count": 40,
   "outputs": [],
   "source": [
    "g_dict = test_gen.class_indices\n",
    "classes = list(g_dict.keys())\n",
    "\n",
    "# Confusion matrix\n",
    "cm = confusion_matrix(test_gen.classes, y_pred)\n"
   ],
   "metadata": {
    "collapsed": false
   }
  },
  {
   "cell_type": "code",
   "execution_count": 41,
   "outputs": [],
   "source": [
    "cr = classification_report(test_gen.classes, y_pred)"
   ],
   "metadata": {
    "collapsed": false
   }
  },
  {
   "cell_type": "code",
   "execution_count": 42,
   "outputs": [
    {
     "data": {
      "text/plain": "['COVID', 'Lung_Opacity', 'Normal', 'Viral Pneumonia']"
     },
     "execution_count": 42,
     "metadata": {},
     "output_type": "execute_result"
    }
   ],
   "source": [
    "classes"
   ],
   "metadata": {
    "collapsed": false
   }
  },
  {
   "cell_type": "code",
   "execution_count": 43,
   "outputs": [
    {
     "data": {
      "text/plain": "array([[270,  26,  62,   4],\n       [ 30, 365, 204,   3],\n       [ 58, 117, 841,   3],\n       [  5,   7,  25,  97]])"
     },
     "execution_count": 43,
     "metadata": {},
     "output_type": "execute_result"
    }
   ],
   "source": [
    "cm"
   ],
   "metadata": {
    "collapsed": false
   }
  },
  {
   "cell_type": "code",
   "execution_count": 44,
   "outputs": [
    {
     "data": {
      "text/plain": "<Figure size 640x480 with 2 Axes>",
      "image/png": "[encoded data removed]"
     },
     "metadata": {},
     "output_type": "display_data"
    }
   ],
   "source": [
    "from sklearn.metrics import confusion_matrix\n",
    "import seaborn as sns\n",
    "import matplotlib.pyplot as plt\n",
    "\n",
    "# y_true and y_pred are the true and predicted labels, respectively\n",
    "\n",
    "\n",
    "# Create a heatmap of the confusion matrix\n",
    "sns.heatmap(cm, annot=True, fmt='d', cmap='Blues')\n",
    "\n",
    "# Add labels, title, and ticks to the plot\n",
    "plt.xlabel('Predicted Labels')\n",
    "plt.ylabel('True Labels')\n",
    "plt.title('Confusion Matrix')\n",
    "plt.xticks(ticks=[0, 1, 2, 3], labels=classes)\n",
    "plt.yticks(ticks=[0, 1, 2, 3], labels=classes)\n",
    "plt.show()\n"
   ],
   "metadata": {
    "collapsed": false
   }
  },
  {
   "cell_type": "code",
   "execution_count": 45,
   "outputs": [
    {
     "name": "stdout",
     "output_type": "stream",
     "text": [
      "              precision    recall  f1-score   support\n",
      "\n",
      "           0       0.74      0.75      0.74       362\n",
      "           1       0.71      0.61      0.65       602\n",
      "           2       0.74      0.83      0.78      1019\n",
      "           3       0.91      0.72      0.80       134\n",
      "\n",
      "    accuracy                           0.74      2117\n",
      "   macro avg       0.78      0.73      0.75      2117\n",
      "weighted avg       0.74      0.74      0.74      2117\n",
      "\n"
     ]
    }
   ],
   "source": [
    "print(cr)"
   ],
   "metadata": {
    "collapsed": false
   }
  },
  {
   "cell_type": "code",
   "execution_count": null,
   "outputs": [],
   "source": [],
   "metadata": {
    "collapsed": false
   }
  }
 ],
 "metadata": {
  "kernelspec": {
   "display_name": "Python 3",
   "language": "python",
   "name": "python3"
  },
  "language_info": {
   "codemirror_mode": {
    "name": "ipython",
    "version": 2
   },
   "file_extension": ".py",
   "mimetype": "text/x-python",
   "name": "python",
   "nbconvert_exporter": "python",
   "pygments_lexer": "ipython2",
   "version": "2.7.6"
  }
 },
 "nbformat": 4,
 "nbformat_minor": 0
}
